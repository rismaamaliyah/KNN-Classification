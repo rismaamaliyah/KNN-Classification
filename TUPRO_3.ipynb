{
  "nbformat": 4,
  "nbformat_minor": 0,
  "metadata": {
    "colab": {
      "name": "TUPRO 3.ipynb",
      "provenance": [],
      "collapsed_sections": []
    },
    "kernelspec": {
      "name": "python3",
      "display_name": "Python 3"
    },
    "language_info": {
      "name": "python"
    }
  },
  "cells": [
    {
      "cell_type": "markdown",
      "source": [
        "# ****Learning - Binary Classification****\n",
        "###KELOMPOK 1 (IF-44-08)\n",
        "Anggota :\n",
        "*   Anyelir Belia Azzahra (1301200048)\n",
        "*   Risma Amaliyah Mahmudah (1301204087)\n",
        "*   Muhammad Rafi Irfansyah (1301204500)"
      ],
      "metadata": {
        "id": "pKLQsh6hwxiG"
      }
    },
    {
      "cell_type": "code",
      "source": [
        "#import package\n",
        "import pandas as pd\n",
        "import matplotlib.pyplot as plt\n",
        "import numpy as np\n",
        "import seaborn as sns\n",
        "\n",
        "from collections import Counter\n",
        "from sklearn.model_selection import train_test_split\n",
        "from sklearn.metrics import confusion_matrix, classification_report\n",
        "from imblearn.over_sampling import SMOTE\n",
        "#untuk menyimpan output ke file dalam drive\n",
        "from google.colab import drive"
      ],
      "metadata": {
        "id": "GDAGHJT-xBKY"
      },
      "execution_count": null,
      "outputs": []
    },
    {
      "cell_type": "code",
      "source": [
        "!gdown --id 1oHwMSB3NeKYMpQCjwuSd7dbb6zpAYhyj"
      ],
      "metadata": {
        "colab": {
          "base_uri": "https://localhost:8080/"
        },
        "id": "iZxyZ1t2x6ty",
        "outputId": "312969f5-ef39-4396-e87b-fd833ea1c705"
      },
      "execution_count": null,
      "outputs": [
        {
          "output_type": "stream",
          "name": "stdout",
          "text": [
            "/usr/local/lib/python3.7/dist-packages/gdown/cli.py:131: FutureWarning: Option `--id` was deprecated in version 4.3.1 and will be removed in 5.0. You don't need to pass it anymore to use a file ID.\n",
            "  category=FutureWarning,\n",
            "Downloading...\n",
            "From: https://drive.google.com/uc?id=1oHwMSB3NeKYMpQCjwuSd7dbb6zpAYhyj\n",
            "To: /content/traintest.xlsx\n",
            "100% 17.7k/17.7k [00:00<00:00, 17.3MB/s]\n"
          ]
        }
      ]
    },
    {
      "cell_type": "code",
      "source": [
        "df = pd.read_excel('./traintest.xlsx')\n",
        "df = df.drop('id', axis=1)\n",
        "\n",
        "df.head()"
      ],
      "metadata": {
        "colab": {
          "base_uri": "https://localhost:8080/",
          "height": 206
        },
        "id": "WAEfHlQ0ycfQ",
        "outputId": "b68e2305-fa7a-4e4e-956d-a415b523251a"
      },
      "execution_count": null,
      "outputs": [
        {
          "output_type": "execute_result",
          "data": {
            "text/plain": [
              "   x1  x2  x3  y\n",
              "0  60  64   0  1\n",
              "1  54  60  11  0\n",
              "2  65  62  22  0\n",
              "3  34  60   0  1\n",
              "4  38  69  21  0"
            ],
            "text/html": [
              "\n",
              "  <div id=\"df-520795db-2136-4d80-a304-cc1a33528cbf\">\n",
              "    <div class=\"colab-df-container\">\n",
              "      <div>\n",
              "<style scoped>\n",
              "    .dataframe tbody tr th:only-of-type {\n",
              "        vertical-align: middle;\n",
              "    }\n",
              "\n",
              "    .dataframe tbody tr th {\n",
              "        vertical-align: top;\n",
              "    }\n",
              "\n",
              "    .dataframe thead th {\n",
              "        text-align: right;\n",
              "    }\n",
              "</style>\n",
              "<table border=\"1\" class=\"dataframe\">\n",
              "  <thead>\n",
              "    <tr style=\"text-align: right;\">\n",
              "      <th></th>\n",
              "      <th>x1</th>\n",
              "      <th>x2</th>\n",
              "      <th>x3</th>\n",
              "      <th>y</th>\n",
              "    </tr>\n",
              "  </thead>\n",
              "  <tbody>\n",
              "    <tr>\n",
              "      <th>0</th>\n",
              "      <td>60</td>\n",
              "      <td>64</td>\n",
              "      <td>0</td>\n",
              "      <td>1</td>\n",
              "    </tr>\n",
              "    <tr>\n",
              "      <th>1</th>\n",
              "      <td>54</td>\n",
              "      <td>60</td>\n",
              "      <td>11</td>\n",
              "      <td>0</td>\n",
              "    </tr>\n",
              "    <tr>\n",
              "      <th>2</th>\n",
              "      <td>65</td>\n",
              "      <td>62</td>\n",
              "      <td>22</td>\n",
              "      <td>0</td>\n",
              "    </tr>\n",
              "    <tr>\n",
              "      <th>3</th>\n",
              "      <td>34</td>\n",
              "      <td>60</td>\n",
              "      <td>0</td>\n",
              "      <td>1</td>\n",
              "    </tr>\n",
              "    <tr>\n",
              "      <th>4</th>\n",
              "      <td>38</td>\n",
              "      <td>69</td>\n",
              "      <td>21</td>\n",
              "      <td>0</td>\n",
              "    </tr>\n",
              "  </tbody>\n",
              "</table>\n",
              "</div>\n",
              "      <button class=\"colab-df-convert\" onclick=\"convertToInteractive('df-520795db-2136-4d80-a304-cc1a33528cbf')\"\n",
              "              title=\"Convert this dataframe to an interactive table.\"\n",
              "              style=\"display:none;\">\n",
              "        \n",
              "  <svg xmlns=\"http://www.w3.org/2000/svg\" height=\"24px\"viewBox=\"0 0 24 24\"\n",
              "       width=\"24px\">\n",
              "    <path d=\"M0 0h24v24H0V0z\" fill=\"none\"/>\n",
              "    <path d=\"M18.56 5.44l.94 2.06.94-2.06 2.06-.94-2.06-.94-.94-2.06-.94 2.06-2.06.94zm-11 1L8.5 8.5l.94-2.06 2.06-.94-2.06-.94L8.5 2.5l-.94 2.06-2.06.94zm10 10l.94 2.06.94-2.06 2.06-.94-2.06-.94-.94-2.06-.94 2.06-2.06.94z\"/><path d=\"M17.41 7.96l-1.37-1.37c-.4-.4-.92-.59-1.43-.59-.52 0-1.04.2-1.43.59L10.3 9.45l-7.72 7.72c-.78.78-.78 2.05 0 2.83L4 21.41c.39.39.9.59 1.41.59.51 0 1.02-.2 1.41-.59l7.78-7.78 2.81-2.81c.8-.78.8-2.07 0-2.86zM5.41 20L4 18.59l7.72-7.72 1.47 1.35L5.41 20z\"/>\n",
              "  </svg>\n",
              "      </button>\n",
              "      \n",
              "  <style>\n",
              "    .colab-df-container {\n",
              "      display:flex;\n",
              "      flex-wrap:wrap;\n",
              "      gap: 12px;\n",
              "    }\n",
              "\n",
              "    .colab-df-convert {\n",
              "      background-color: #E8F0FE;\n",
              "      border: none;\n",
              "      border-radius: 50%;\n",
              "      cursor: pointer;\n",
              "      display: none;\n",
              "      fill: #1967D2;\n",
              "      height: 32px;\n",
              "      padding: 0 0 0 0;\n",
              "      width: 32px;\n",
              "    }\n",
              "\n",
              "    .colab-df-convert:hover {\n",
              "      background-color: #E2EBFA;\n",
              "      box-shadow: 0px 1px 2px rgba(60, 64, 67, 0.3), 0px 1px 3px 1px rgba(60, 64, 67, 0.15);\n",
              "      fill: #174EA6;\n",
              "    }\n",
              "\n",
              "    [theme=dark] .colab-df-convert {\n",
              "      background-color: #3B4455;\n",
              "      fill: #D2E3FC;\n",
              "    }\n",
              "\n",
              "    [theme=dark] .colab-df-convert:hover {\n",
              "      background-color: #434B5C;\n",
              "      box-shadow: 0px 1px 3px 1px rgba(0, 0, 0, 0.15);\n",
              "      filter: drop-shadow(0px 1px 2px rgba(0, 0, 0, 0.3));\n",
              "      fill: #FFFFFF;\n",
              "    }\n",
              "  </style>\n",
              "\n",
              "      <script>\n",
              "        const buttonEl =\n",
              "          document.querySelector('#df-520795db-2136-4d80-a304-cc1a33528cbf button.colab-df-convert');\n",
              "        buttonEl.style.display =\n",
              "          google.colab.kernel.accessAllowed ? 'block' : 'none';\n",
              "\n",
              "        async function convertToInteractive(key) {\n",
              "          const element = document.querySelector('#df-520795db-2136-4d80-a304-cc1a33528cbf');\n",
              "          const dataTable =\n",
              "            await google.colab.kernel.invokeFunction('convertToInteractive',\n",
              "                                                     [key], {});\n",
              "          if (!dataTable) return;\n",
              "\n",
              "          const docLinkHtml = 'Like what you see? Visit the ' +\n",
              "            '<a target=\"_blank\" href=https://colab.research.google.com/notebooks/data_table.ipynb>data table notebook</a>'\n",
              "            + ' to learn more about interactive tables.';\n",
              "          element.innerHTML = '';\n",
              "          dataTable['output_type'] = 'display_data';\n",
              "          await google.colab.output.renderOutput(dataTable, element);\n",
              "          const docLink = document.createElement('div');\n",
              "          docLink.innerHTML = docLinkHtml;\n",
              "          element.appendChild(docLink);\n",
              "        }\n",
              "      </script>\n",
              "    </div>\n",
              "  </div>\n",
              "  "
            ]
          },
          "metadata": {},
          "execution_count": 3
        }
      ]
    },
    {
      "cell_type": "code",
      "source": [
        "print(df['y'].value_counts())\n",
        "sns.catplot(x='y', data=df, kind='count')\n",
        "plt.show()"
      ],
      "metadata": {
        "colab": {
          "base_uri": "https://localhost:8080/",
          "height": 421
        },
        "id": "g2O14Pq1yg3P",
        "outputId": "4b03256b-8c94-461a-9979-3cd7241c657f"
      },
      "execution_count": null,
      "outputs": [
        {
          "output_type": "stream",
          "name": "stdout",
          "text": [
            "1    218\n",
            "0     78\n",
            "Name: y, dtype: int64\n"
          ]
        },
        {
          "output_type": "display_data",
          "data": {
            "text/plain": [
              "<Figure size 360x360 with 1 Axes>"
            ],
            "image/png": "[encoded data removed]"
          },
          "metadata": {
            "needs_background": "light"
          }
        }
      ]
    },
    {
      "cell_type": "code",
      "source": [
        "x_data = df.drop(\"y\", axis=1).to_numpy() \n",
        "y_data = df[\"y\"].to_numpy()"
      ],
      "metadata": {
        "id": "1Zd-x7ENykch"
      },
      "execution_count": null,
      "outputs": []
    },
    {
      "cell_type": "code",
      "source": [
        "x_data"
      ],
      "metadata": {
        "colab": {
          "base_uri": "https://localhost:8080/"
        },
        "id": "iyNnZk-eymY4",
        "outputId": "8773dc27-2128-45ef-aa32-47392113e1c1"
      },
      "execution_count": null,
      "outputs": [
        {
          "output_type": "execute_result",
          "data": {
            "text/plain": [
              "array([[60, 64,  0],\n",
              "       [54, 60, 11],\n",
              "       [65, 62, 22],\n",
              "       [34, 60,  0],\n",
              "       [38, 69, 21],\n",
              "       [33, 58, 10],\n",
              "       [63, 61,  0],\n",
              "       [57, 64,  0],\n",
              "       [46, 58,  3],\n",
              "       [43, 65,  0],\n",
              "       [60, 59, 17],\n",
              "       [70, 59,  8],\n",
              "       [69, 60,  0],\n",
              "       [57, 61,  5],\n",
              "       [67, 61,  0],\n",
              "       [68, 67,  0],\n",
              "       [49, 61,  1],\n",
              "       [47, 58,  3],\n",
              "       [48, 67,  7],\n",
              "       [66, 58,  1],\n",
              "       [57, 64,  9],\n",
              "       [46, 63,  0],\n",
              "       [36, 60,  1],\n",
              "       [52, 64,  0],\n",
              "       [51, 64,  7],\n",
              "       [41, 60, 23],\n",
              "       [53, 58,  4],\n",
              "       [50, 64,  0],\n",
              "       [56, 66,  2],\n",
              "       [45, 67,  0],\n",
              "       [70, 67,  0],\n",
              "       [45, 67,  1],\n",
              "       [37, 63,  0],\n",
              "       [61, 65,  8],\n",
              "       [50, 65,  4],\n",
              "       [77, 65,  3],\n",
              "       [57, 69,  0],\n",
              "       [62, 65, 19],\n",
              "       [65, 67,  1],\n",
              "       [44, 63,  1],\n",
              "       [49, 62,  1],\n",
              "       [55, 58,  1],\n",
              "       [61, 68,  1],\n",
              "       [49, 62,  0],\n",
              "       [61, 64,  0],\n",
              "       [41, 64,  0],\n",
              "       [52, 68,  0],\n",
              "       [38, 66,  0],\n",
              "       [57, 62, 14],\n",
              "       [57, 67,  0],\n",
              "       [53, 60,  9],\n",
              "       [41, 67,  0],\n",
              "       [52, 65,  0],\n",
              "       [65, 58,  0],\n",
              "       [59, 63,  0],\n",
              "       [54, 63, 19],\n",
              "       [73, 62,  0],\n",
              "       [41, 59,  0],\n",
              "       [57, 64,  0],\n",
              "       [67, 64,  8],\n",
              "       [41, 58,  0],\n",
              "       [54, 66,  0],\n",
              "       [57, 63,  0],\n",
              "       [46, 62,  5],\n",
              "       [38, 59,  2],\n",
              "       [33, 60,  0],\n",
              "       [48, 61,  8],\n",
              "       [68, 68,  0],\n",
              "       [66, 61, 13],\n",
              "       [64, 66,  0],\n",
              "       [37, 63,  0],\n",
              "       [62, 62,  6],\n",
              "       [38, 64,  1],\n",
              "       [63, 62,  0],\n",
              "       [55, 66,  0],\n",
              "       [61, 68,  0],\n",
              "       [50, 59,  0],\n",
              "       [43, 58, 52],\n",
              "       [78, 65,  1],\n",
              "       [75, 62,  1],\n",
              "       [42, 63,  1],\n",
              "       [44, 58,  9],\n",
              "       [31, 59,  2],\n",
              "       [34, 67,  7],\n",
              "       [65, 59,  2],\n",
              "       [55, 69,  3],\n",
              "       [39, 58,  0],\n",
              "       [45, 64,  0],\n",
              "       [53, 63,  0],\n",
              "       [37, 59,  6],\n",
              "       [61, 59,  0],\n",
              "       [63, 60,  1],\n",
              "       [44, 61,  0],\n",
              "       [59, 64,  0],\n",
              "       [44, 63, 19],\n",
              "       [39, 63,  4],\n",
              "       [46, 69,  3],\n",
              "       [47, 66, 12],\n",
              "       [51, 59,  3],\n",
              "       [74, 63,  0],\n",
              "       [54, 62,  0],\n",
              "       [55, 58,  0],\n",
              "       [44, 67, 16],\n",
              "       [73, 68,  0],\n",
              "       [69, 65,  0],\n",
              "       [30, 62,  3],\n",
              "       [54, 60,  3],\n",
              "       [66, 68,  0],\n",
              "       [58, 58,  0],\n",
              "       [41, 65,  0],\n",
              "       [38, 67,  5],\n",
              "       [43, 66,  4],\n",
              "       [37, 58,  0],\n",
              "       [55, 58,  1],\n",
              "       [47, 66,  0],\n",
              "       [52, 62,  1],\n",
              "       [47, 61,  0],\n",
              "       [50, 61,  0],\n",
              "       [66, 58,  0],\n",
              "       [45, 68,  0],\n",
              "       [35, 63,  0],\n",
              "       [55, 67,  1],\n",
              "       [44, 61,  0],\n",
              "       [56, 60,  0],\n",
              "       [72, 67,  3],\n",
              "       [41, 59,  8],\n",
              "       [60, 65,  0],\n",
              "       [60, 61,  1],\n",
              "       [48, 58, 11],\n",
              "       [59, 62, 35],\n",
              "       [43, 63, 14],\n",
              "       [52, 59,  2],\n",
              "       [64, 65, 22],\n",
              "       [58, 61,  1],\n",
              "       [63, 63,  0],\n",
              "       [54, 65, 23],\n",
              "       [46, 58,  2],\n",
              "       [55, 68, 15],\n",
              "       [42, 58,  0],\n",
              "       [74, 65,  3],\n",
              "       [70, 68,  0],\n",
              "       [50, 66,  1],\n",
              "       [63, 66,  0],\n",
              "       [62, 59, 13],\n",
              "       [53, 58,  1],\n",
              "       [42, 65,  0],\n",
              "       [72, 64,  0],\n",
              "       [38, 60,  1],\n",
              "       [67, 66,  0],\n",
              "       [59, 67,  3],\n",
              "       [58, 58,  3],\n",
              "       [65, 66, 15],\n",
              "       [65, 61,  2],\n",
              "       [49, 66,  0],\n",
              "       [50, 61,  0],\n",
              "       [45, 65,  6],\n",
              "       [37, 60, 15],\n",
              "       [58, 59,  0],\n",
              "       [70, 66, 14],\n",
              "       [64, 68,  0],\n",
              "       [52, 69,  0],\n",
              "       [62, 58,  0],\n",
              "       [50, 63, 13],\n",
              "       [43, 64,  3],\n",
              "       [56, 66,  1],\n",
              "       [53, 60,  2],\n",
              "       [41, 69,  8],\n",
              "       [69, 66,  0],\n",
              "       [61, 59,  0],\n",
              "       [34, 58, 30],\n",
              "       [50, 58,  1],\n",
              "       [48, 66,  0],\n",
              "       [43, 60,  0],\n",
              "       [38, 60,  0],\n",
              "       [65, 64,  0],\n",
              "       [60, 67,  2],\n",
              "       [42, 59,  2],\n",
              "       [52, 66,  4],\n",
              "       [56, 60,  0],\n",
              "       [49, 61,  0],\n",
              "       [48, 64,  0],\n",
              "       [55, 69, 22],\n",
              "       [70, 58,  0],\n",
              "       [47, 67,  0],\n",
              "       [45, 59, 14],\n",
              "       [47, 63, 23],\n",
              "       [51, 59,  1],\n",
              "       [51, 65,  0],\n",
              "       [49, 64, 10],\n",
              "       [63, 61,  9],\n",
              "       [43, 64,  2],\n",
              "       [52, 60,  5],\n",
              "       [51, 59, 13],\n",
              "       [54, 68,  7],\n",
              "       [49, 67,  1],\n",
              "       [65, 64,  0],\n",
              "       [70, 58,  4],\n",
              "       [47, 65,  0],\n",
              "       [59, 64,  4],\n",
              "       [54, 65,  5],\n",
              "       [63, 61, 28],\n",
              "       [54, 67, 46],\n",
              "       [63, 63,  0],\n",
              "       [53, 59,  3],\n",
              "       [55, 63,  6],\n",
              "       [41, 64,  0],\n",
              "       [38, 62,  3],\n",
              "       [45, 66,  0],\n",
              "       [48, 58, 11],\n",
              "       [45, 67,  1],\n",
              "       [49, 63,  0],\n",
              "       [39, 63,  0],\n",
              "       [42, 62, 20],\n",
              "       [71, 68,  2],\n",
              "       [52, 62,  3],\n",
              "       [58, 67,  0],\n",
              "       [50, 63,  1],\n",
              "       [52, 61,  0],\n",
              "       [39, 66,  0],\n",
              "       [38, 66, 11],\n",
              "       [35, 64, 13],\n",
              "       [38, 60,  0],\n",
              "       [34, 66,  9],\n",
              "       [72, 63,  0],\n",
              "       [66, 58,  0],\n",
              "       [53, 65,  1],\n",
              "       [57, 61,  0],\n",
              "       [56, 65,  9],\n",
              "       [67, 63,  1],\n",
              "       [47, 63,  6],\n",
              "       [53, 61,  1],\n",
              "       [36, 69,  0],\n",
              "       [57, 62,  0],\n",
              "       [39, 59,  2],\n",
              "       [43, 64,  0],\n",
              "       [61, 59,  0],\n",
              "       [48, 62,  2],\n",
              "       [39, 67,  0],\n",
              "       [50, 64,  0],\n",
              "       [61, 65,  0],\n",
              "       [76, 67,  0],\n",
              "       [59, 64,  7],\n",
              "       [53, 63, 24],\n",
              "       [40, 58,  0],\n",
              "       [67, 65,  0],\n",
              "       [46, 62,  0],\n",
              "       [52, 69,  3],\n",
              "       [60, 61, 25],\n",
              "       [72, 58,  0],\n",
              "       [47, 68,  4],\n",
              "       [42, 60,  1],\n",
              "       [55, 66, 18],\n",
              "       [49, 60,  1],\n",
              "       [62, 66,  0],\n",
              "       [65, 58,  0],\n",
              "       [83, 58,  2],\n",
              "       [34, 61, 10],\n",
              "       [51, 66,  1],\n",
              "       [61, 62,  5],\n",
              "       [46, 65, 20],\n",
              "       [54, 62,  0],\n",
              "       [30, 64,  1],\n",
              "       [42, 59,  0],\n",
              "       [69, 67,  8],\n",
              "       [52, 62,  0],\n",
              "       [52, 60,  4],\n",
              "       [58, 61,  2],\n",
              "       [40, 65,  0],\n",
              "       [70, 63,  0],\n",
              "       [53, 60,  1],\n",
              "       [43, 64,  0],\n",
              "       [62, 58,  0],\n",
              "       [64, 58,  0],\n",
              "       [30, 65,  0],\n",
              "       [42, 61,  4],\n",
              "       [62, 66,  0],\n",
              "       [43, 63,  2],\n",
              "       [41, 65,  0],\n",
              "       [47, 62,  0],\n",
              "       [37, 60,  0],\n",
              "       [34, 60,  1],\n",
              "       [40, 58,  2],\n",
              "       [52, 63,  4],\n",
              "       [44, 64,  6],\n",
              "       [34, 59,  0],\n",
              "       [31, 65,  4],\n",
              "       [56, 67,  0],\n",
              "       [54, 69,  7],\n",
              "       [47, 60,  4],\n",
              "       [64, 61,  0],\n",
              "       [50, 61,  6],\n",
              "       [59, 64,  1],\n",
              "       [65, 67,  0],\n",
              "       [53, 65, 12],\n",
              "       [57, 64,  1],\n",
              "       [54, 59,  7]])"
            ]
          },
          "metadata": {},
          "execution_count": 6
        }
      ]
    },
    {
      "cell_type": "code",
      "source": [
        "y_data"
      ],
      "metadata": {
        "colab": {
          "base_uri": "https://localhost:8080/"
        },
        "id": "taDUhmQO01_f",
        "outputId": "a38aebd7-48fd-4cb7-86ec-89e7bd9678c1"
      },
      "execution_count": null,
      "outputs": [
        {
          "output_type": "execute_result",
          "data": {
            "text/plain": [
              "array([1, 0, 0, 1, 0, 1, 1, 1, 1, 1, 0, 1, 1, 0, 1, 1, 1, 1, 0, 1, 1, 1,\n",
              "       1, 1, 1, 0, 0, 0, 1, 1, 1, 1, 1, 1, 1, 1, 1, 0, 1, 1, 1, 1, 0, 1,\n",
              "       1, 0, 1, 1, 0, 1, 0, 0, 1, 0, 1, 1, 1, 1, 1, 0, 1, 1, 1, 0, 1, 1,\n",
              "       1, 1, 0, 1, 1, 1, 1, 1, 1, 1, 1, 0, 0, 1, 1, 0, 1, 1, 1, 1, 1, 1,\n",
              "       1, 1, 1, 0, 1, 1, 0, 1, 0, 1, 0, 1, 1, 1, 1, 1, 1, 1, 1, 1, 1, 1,\n",
              "       1, 1, 1, 1, 1, 1, 1, 1, 1, 1, 1, 1, 1, 1, 1, 1, 0, 1, 0, 0, 1, 0,\n",
              "       1, 1, 1, 0, 0, 0, 1, 0, 1, 1, 1, 0, 1, 1, 1, 1, 1, 1, 1, 0, 0, 1,\n",
              "       1, 0, 1, 1, 1, 1, 1, 1, 0, 1, 1, 1, 1, 1, 1, 1, 1, 1, 1, 1, 1, 1,\n",
              "       1, 0, 1, 1, 1, 1, 0, 1, 1, 0, 1, 1, 0, 1, 1, 1, 0, 0, 1, 1, 0, 0,\n",
              "       1, 0, 1, 1, 1, 0, 0, 1, 1, 0, 0, 0, 0, 1, 1, 1, 0, 1, 1, 1, 0, 1,\n",
              "       1, 1, 0, 0, 0, 0, 1, 0, 0, 1, 1, 1, 1, 1, 0, 1, 1, 1, 1, 0, 1, 1,\n",
              "       0, 1, 1, 1, 0, 1, 1, 1, 1, 1, 1, 1, 1, 0, 1, 1, 0, 0, 1, 1, 0, 0,\n",
              "       1, 1, 1, 1, 1, 1, 0, 0, 1, 1, 1, 1, 1, 1, 0, 1, 1, 1, 1, 0, 0, 1,\n",
              "       1, 1, 1, 1, 1, 1, 1, 0, 0, 1])"
            ]
          },
          "metadata": {},
          "execution_count": 7
        }
      ]
    },
    {
      "cell_type": "code",
      "source": [
        "x_data, y_data = SMOTE().fit_resample(x_data, y_data)"
      ],
      "metadata": {
        "id": "sEiEmj2K40af"
      },
      "execution_count": null,
      "outputs": []
    },
    {
      "cell_type": "code",
      "source": [
        "df_new = pd.DataFrame()\n",
        "df_new['y'] = y_data\n",
        "df_new"
      ],
      "metadata": {
        "colab": {
          "base_uri": "https://localhost:8080/",
          "height": 424
        },
        "id": "taTnoLctyrxl",
        "outputId": "8bab1330-b752-4dcb-f2e9-014dddfbea9c"
      },
      "execution_count": null,
      "outputs": [
        {
          "output_type": "execute_result",
          "data": {
            "text/plain": [
              "     y\n",
              "0    1\n",
              "1    0\n",
              "2    0\n",
              "3    1\n",
              "4    0\n",
              "..  ..\n",
              "431  0\n",
              "432  0\n",
              "433  0\n",
              "434  0\n",
              "435  0\n",
              "\n",
              "[436 rows x 1 columns]"
            ],
            "text/html": [
              "\n",
              "  <div id=\"df-e83f1cea-33f2-4e1c-bd69-8cf98a9ba791\">\n",
              "    <div class=\"colab-df-container\">\n",
              "      <div>\n",
              "<style scoped>\n",
              "    .dataframe tbody tr th:only-of-type {\n",
              "        vertical-align: middle;\n",
              "    }\n",
              "\n",
              "    .dataframe tbody tr th {\n",
              "        vertical-align: top;\n",
              "    }\n",
              "\n",
              "    .dataframe thead th {\n",
              "        text-align: right;\n",
              "    }\n",
              "</style>\n",
              "<table border=\"1\" class=\"dataframe\">\n",
              "  <thead>\n",
              "    <tr style=\"text-align: right;\">\n",
              "      <th></th>\n",
              "      <th>y</th>\n",
              "    </tr>\n",
              "  </thead>\n",
              "  <tbody>\n",
              "    <tr>\n",
              "      <th>0</th>\n",
              "      <td>1</td>\n",
              "    </tr>\n",
              "    <tr>\n",
              "      <th>1</th>\n",
              "      <td>0</td>\n",
              "    </tr>\n",
              "    <tr>\n",
              "      <th>2</th>\n",
              "      <td>0</td>\n",
              "    </tr>\n",
              "    <tr>\n",
              "      <th>3</th>\n",
              "      <td>1</td>\n",
              "    </tr>\n",
              "    <tr>\n",
              "      <th>4</th>\n",
              "      <td>0</td>\n",
              "    </tr>\n",
              "    <tr>\n",
              "      <th>...</th>\n",
              "      <td>...</td>\n",
              "    </tr>\n",
              "    <tr>\n",
              "      <th>431</th>\n",
              "      <td>0</td>\n",
              "    </tr>\n",
              "    <tr>\n",
              "      <th>432</th>\n",
              "      <td>0</td>\n",
              "    </tr>\n",
              "    <tr>\n",
              "      <th>433</th>\n",
              "      <td>0</td>\n",
              "    </tr>\n",
              "    <tr>\n",
              "      <th>434</th>\n",
              "      <td>0</td>\n",
              "    </tr>\n",
              "    <tr>\n",
              "      <th>435</th>\n",
              "      <td>0</td>\n",
              "    </tr>\n",
              "  </tbody>\n",
              "</table>\n",
              "<p>436 rows × 1 columns</p>\n",
              "</div>\n",
              "      <button class=\"colab-df-convert\" onclick=\"convertToInteractive('df-e83f1cea-33f2-4e1c-bd69-8cf98a9ba791')\"\n",
              "              title=\"Convert this dataframe to an interactive table.\"\n",
              "              style=\"display:none;\">\n",
              "        \n",
              "  <svg xmlns=\"http://www.w3.org/2000/svg\" height=\"24px\"viewBox=\"0 0 24 24\"\n",
              "       width=\"24px\">\n",
              "    <path d=\"M0 0h24v24H0V0z\" fill=\"none\"/>\n",
              "    <path d=\"M18.56 5.44l.94 2.06.94-2.06 2.06-.94-2.06-.94-.94-2.06-.94 2.06-2.06.94zm-11 1L8.5 8.5l.94-2.06 2.06-.94-2.06-.94L8.5 2.5l-.94 2.06-2.06.94zm10 10l.94 2.06.94-2.06 2.06-.94-2.06-.94-.94-2.06-.94 2.06-2.06.94z\"/><path d=\"M17.41 7.96l-1.37-1.37c-.4-.4-.92-.59-1.43-.59-.52 0-1.04.2-1.43.59L10.3 9.45l-7.72 7.72c-.78.78-.78 2.05 0 2.83L4 21.41c.39.39.9.59 1.41.59.51 0 1.02-.2 1.41-.59l7.78-7.78 2.81-2.81c.8-.78.8-2.07 0-2.86zM5.41 20L4 18.59l7.72-7.72 1.47 1.35L5.41 20z\"/>\n",
              "  </svg>\n",
              "      </button>\n",
              "      \n",
              "  <style>\n",
              "    .colab-df-container {\n",
              "      display:flex;\n",
              "      flex-wrap:wrap;\n",
              "      gap: 12px;\n",
              "    }\n",
              "\n",
              "    .colab-df-convert {\n",
              "      background-color: #E8F0FE;\n",
              "      border: none;\n",
              "      border-radius: 50%;\n",
              "      cursor: pointer;\n",
              "      display: none;\n",
              "      fill: #1967D2;\n",
              "      height: 32px;\n",
              "      padding: 0 0 0 0;\n",
              "      width: 32px;\n",
              "    }\n",
              "\n",
              "    .colab-df-convert:hover {\n",
              "      background-color: #E2EBFA;\n",
              "      box-shadow: 0px 1px 2px rgba(60, 64, 67, 0.3), 0px 1px 3px 1px rgba(60, 64, 67, 0.15);\n",
              "      fill: #174EA6;\n",
              "    }\n",
              "\n",
              "    [theme=dark] .colab-df-convert {\n",
              "      background-color: #3B4455;\n",
              "      fill: #D2E3FC;\n",
              "    }\n",
              "\n",
              "    [theme=dark] .colab-df-convert:hover {\n",
              "      background-color: #434B5C;\n",
              "      box-shadow: 0px 1px 3px 1px rgba(0, 0, 0, 0.15);\n",
              "      filter: drop-shadow(0px 1px 2px rgba(0, 0, 0, 0.3));\n",
              "      fill: #FFFFFF;\n",
              "    }\n",
              "  </style>\n",
              "\n",
              "      <script>\n",
              "        const buttonEl =\n",
              "          document.querySelector('#df-e83f1cea-33f2-4e1c-bd69-8cf98a9ba791 button.colab-df-convert');\n",
              "        buttonEl.style.display =\n",
              "          google.colab.kernel.accessAllowed ? 'block' : 'none';\n",
              "\n",
              "        async function convertToInteractive(key) {\n",
              "          const element = document.querySelector('#df-e83f1cea-33f2-4e1c-bd69-8cf98a9ba791');\n",
              "          const dataTable =\n",
              "            await google.colab.kernel.invokeFunction('convertToInteractive',\n",
              "                                                     [key], {});\n",
              "          if (!dataTable) return;\n",
              "\n",
              "          const docLinkHtml = 'Like what you see? Visit the ' +\n",
              "            '<a target=\"_blank\" href=https://colab.research.google.com/notebooks/data_table.ipynb>data table notebook</a>'\n",
              "            + ' to learn more about interactive tables.';\n",
              "          element.innerHTML = '';\n",
              "          dataTable['output_type'] = 'display_data';\n",
              "          await google.colab.output.renderOutput(dataTable, element);\n",
              "          const docLink = document.createElement('div');\n",
              "          docLink.innerHTML = docLinkHtml;\n",
              "          element.appendChild(docLink);\n",
              "        }\n",
              "      </script>\n",
              "    </div>\n",
              "  </div>\n",
              "  "
            ]
          },
          "metadata": {},
          "execution_count": 9
        }
      ]
    },
    {
      "cell_type": "code",
      "source": [
        "print(df_new['y'].value_counts())\n",
        "sns.catplot(x='y', data=df_new, kind='count')\n",
        "plt.show()"
      ],
      "metadata": {
        "colab": {
          "base_uri": "https://localhost:8080/",
          "height": 421
        },
        "id": "zwzEKKDVyuUR",
        "outputId": "5d0ac394-a9d0-490f-fbfe-91b369327f36"
      },
      "execution_count": null,
      "outputs": [
        {
          "output_type": "stream",
          "name": "stdout",
          "text": [
            "1    218\n",
            "0    218\n",
            "Name: y, dtype: int64\n"
          ]
        },
        {
          "output_type": "display_data",
          "data": {
            "text/plain": [
              "<Figure size 360x360 with 1 Axes>"
            ],
            "image/png": "[encoded data removed]"
          },
          "metadata": {
            "needs_background": "light"
          }
        }
      ]
    },
    {
      "cell_type": "code",
      "source": [
        "x_train, x_test, y_train, y_test = train_test_split(x_data, y_data, test_size=0.2)"
      ],
      "metadata": {
        "id": "kOBzE16Pyw6n"
      },
      "execution_count": null,
      "outputs": []
    },
    {
      "cell_type": "markdown",
      "source": [
        "##**Metode yang Digunakan ( training model )**"
      ],
      "metadata": {
        "id": "vGtehrNyzD3l"
      }
    },
    {
      "cell_type": "code",
      "source": [
        "class KNN:\n",
        "  def __init__(self, k=5):\n",
        "    self.K = k\n",
        "\n",
        "  #mendeskripsikan x dan y \n",
        "  def train(self, X, y): # x merupakan data x suatu kolom, y merupakan label\n",
        "    self.X_train = X\n",
        "    self.y_train = y\n",
        "\n",
        "  \n",
        "  def predict(self, X):\n",
        "    y_prediksi = []\n",
        "    for i in range(len(X)):\n",
        "      y_prediksi.append(self._prediksi(X[i]))\n",
        "\n",
        "    return np.array(y_prediksi)\n",
        "    \n",
        "  #dilakukan perhitungan jarak untuk setiap kolom\n",
        "  def _prediksi(self, x):\n",
        "\n",
        "    # 1. hitung jarak ke semua data training\n",
        "    jarak_titik = [self.jarak(x, x_train) for x_train in self.X_train]\n",
        "\n",
        "    # 2. urutkan berdasrkan jarak terdekat\n",
        "    k_terbaik = np.argsort(jarak_titik)[:self.K]\n",
        "\n",
        "    # 3. ambil label k terbaik\n",
        "    label_k_terbaik = [self.y_train[i] for i in k_terbaik]\n",
        "\n",
        "    # 4. voting yang paling banyak\n",
        "    hasil_voting = Counter(label_k_terbaik).most_common(1)\n",
        "\n",
        "    return hasil_voting[0][0]\n",
        "\n",
        "  def jarak(self, x1, x2):\n",
        "    # Euclidean Distance\n",
        "    return np.sqrt(np.sum((x1-x2)**2))"
      ],
      "metadata": {
        "id": "MSNE_2Cgy0-G"
      },
      "execution_count": null,
      "outputs": []
    },
    {
      "cell_type": "markdown",
      "source": [
        "##**Menyimpan model hasil training**"
      ],
      "metadata": {
        "id": "HHywDNI9ATkt"
      }
    },
    {
      "cell_type": "code",
      "source": [
        "model_knn = KNN(k=3)\n",
        "model_knn.train(x_train, y_train)"
      ],
      "metadata": {
        "id": "sD1vyqdFzPeV"
      },
      "execution_count": null,
      "outputs": []
    },
    {
      "cell_type": "code",
      "source": [
        "x_train"
      ],
      "metadata": {
        "colab": {
          "base_uri": "https://localhost:8080/"
        },
        "id": "wOOETUqXFGnr",
        "outputId": "6e794258-d817-4bb3-ee18-47da569b354a"
      },
      "execution_count": null,
      "outputs": [
        {
          "output_type": "execute_result",
          "data": {
            "text/plain": [
              "array([[42, 59,  2],\n",
              "       [61, 64,  0],\n",
              "       [52, 62,  1],\n",
              "       ...,\n",
              "       [65, 67,  0],\n",
              "       [51, 66,  1],\n",
              "       [53, 65, 12]])"
            ]
          },
          "metadata": {},
          "execution_count": 14
        }
      ]
    },
    {
      "cell_type": "markdown",
      "source": [
        ""
      ],
      "metadata": {
        "id": "y2HoauHGFGW3"
      }
    },
    {
      "cell_type": "markdown",
      "source": [
        "##**Prediksi Data Test**"
      ],
      "metadata": {
        "id": "vDvqYlU4z6dB"
      }
    },
    {
      "cell_type": "code",
      "source": [
        "hasil_knn = model_knn.predict(x_test)"
      ],
      "metadata": {
        "id": "Li8WqqI1zRQ_"
      },
      "execution_count": null,
      "outputs": []
    },
    {
      "cell_type": "code",
      "source": [
        "print(hasil_knn)"
      ],
      "metadata": {
        "colab": {
          "base_uri": "https://localhost:8080/"
        },
        "id": "tMndyhqozTVv",
        "outputId": "7146a168-7455-4109-9d16-ab8daa65086e"
      },
      "execution_count": null,
      "outputs": [
        {
          "output_type": "stream",
          "name": "stdout",
          "text": [
            "[0 1 0 0 0 1 0 0 0 0 0 0 1 0 1 1 0 0 1 0 1 0 1 0 1 0 0 1 0 0 1 1 0 0 1 1 1\n",
            " 1 1 0 1 0 1 0 1 0 0 1 0 1 1 1 0 1 1 0 0 1 1 0 1 1 1 0 1 1 0 0 1 0 0 0 0 1\n",
            " 1 1 1 1 0 0 1 1 0 1 1 0 0 0]\n"
          ]
        }
      ]
    },
    {
      "cell_type": "markdown",
      "source": [
        "##**Pengujian / Testing Model**"
      ],
      "metadata": {
        "id": "WtLmN-OGADs4"
      }
    },
    {
      "cell_type": "code",
      "source": [
        "y_test"
      ],
      "metadata": {
        "colab": {
          "base_uri": "https://localhost:8080/"
        },
        "id": "ASG--7x2zU5_",
        "outputId": "1a7bcad7-cf02-4afa-e76a-f87fd6826c0d"
      },
      "execution_count": null,
      "outputs": [
        {
          "output_type": "execute_result",
          "data": {
            "text/plain": [
              "array([0, 1, 0, 1, 0, 1, 0, 0, 1, 0, 0, 0, 1, 0, 1, 1, 0, 0, 1, 0, 1, 0,\n",
              "       1, 0, 0, 1, 0, 1, 0, 0, 1, 1, 1, 0, 1, 1, 0, 1, 1, 0, 1, 0, 1, 0,\n",
              "       1, 0, 0, 0, 0, 1, 1, 1, 0, 1, 1, 0, 1, 1, 0, 1, 1, 1, 0, 0, 1, 1,\n",
              "       0, 0, 1, 0, 0, 0, 0, 1, 1, 0, 0, 0, 0, 0, 1, 1, 0, 1, 1, 1, 0, 0])"
            ]
          },
          "metadata": {},
          "execution_count": 17
        }
      ]
    },
    {
      "cell_type": "markdown",
      "source": [
        "##**Evaluasi Model**"
      ],
      "metadata": {
        "id": "ci_nhV5R0LR0"
      }
    },
    {
      "cell_type": "code",
      "source": [
        "conf_matrix_knn = confusion_matrix(y_test, hasil_knn)\n",
        "\n",
        "plt.figure(figsize=(8, 7))\n",
        "\n",
        "group_names = ['TN', 'FP', 'FN', 'TP']\n",
        "group_counts = [\"{0:0.0f}\".format(value) for value in conf_matrix_knn.flatten()]\n",
        "group_percentages = [\"{0:.2%}\".format(value) for value in conf_matrix_knn.flatten() / np.sum(conf_matrix_knn)]\n",
        "\n",
        "labels = [f\"{v1}\\n{v2}\\n{v3}\" for v1, v2, v3 in zip(group_names, group_counts, group_percentages)]\n",
        "labels = np.asarray(labels).reshape(2,2)\n",
        "\n",
        "ax = sns.heatmap(conf_matrix_knn, annot=labels, xticklabels=[0, 1], yticklabels=[0, 1], cmap='Blues', fmt='')\n",
        "bottom, top = ax.get_ylim()\n",
        "ax.set_ylim(bottom + 0.5, top - 0.5)\n",
        "\n",
        "plt.ylabel('Actual')\n",
        "plt.xlabel('Predicted')\n",
        "plt.title('Confusion Matrix KNN', pad=16)\n",
        "plt.show()\n",
        "\n",
        "print(classification_report(y_test, hasil_knn))"
      ],
      "metadata": {
        "colab": {
          "base_uri": "https://localhost:8080/",
          "height": 624
        },
        "id": "QL_ev-x20PRP",
        "outputId": "3d6a05cb-5b6b-4a31-de8e-5ddd7a2878f8"
      },
      "execution_count": null,
      "outputs": [
        {
          "output_type": "display_data",
          "data": {
            "text/plain": [
              "<Figure size 576x504 with 2 Axes>"
            ],
            "image/png": "[encoded data removed]"
          },
          "metadata": {
            "needs_background": "light"
          }
        },
        {
          "output_type": "stream",
          "name": "stdout",
          "text": [
            "              precision    recall  f1-score   support\n",
            "\n",
            "           0       0.84      0.83      0.84        46\n",
            "           1       0.81      0.83      0.82        42\n",
            "\n",
            "    accuracy                           0.83        88\n",
            "   macro avg       0.83      0.83      0.83        88\n",
            "weighted avg       0.83      0.83      0.83        88\n",
            "\n"
          ]
        }
      ]
    },
    {
      "cell_type": "code",
      "source": [
        "def accuracy_metric(actual, predicted):\n",
        "  correct = 0\n",
        "\n",
        "  for i in range(len(actual)):\n",
        "    if actual[i] == predicted[i]:\n",
        "      correct = correct + 1\n",
        "\n",
        "  return correct / float(len(actual)) * 100.0 "
      ],
      "metadata": {
        "id": "NebJfVYU8Pq9"
      },
      "execution_count": null,
      "outputs": []
    },
    {
      "cell_type": "code",
      "source": [
        "print(\"Accuracy : \", accuracy_metric(y_test, hasil_knn))"
      ],
      "metadata": {
        "colab": {
          "base_uri": "https://localhost:8080/"
        },
        "id": "YOA2Lt9o8SDa",
        "outputId": "459840b7-c882-4849-d2bc-4d059256b733"
      },
      "execution_count": null,
      "outputs": [
        {
          "output_type": "stream",
          "name": "stdout",
          "text": [
            "Accuracy :  82.95454545454545\n"
          ]
        }
      ]
    },
    {
      "cell_type": "code",
      "source": [
        "df_test = pd.read_excel('./traintest.xlsx', 'test')\n",
        "df_test.head()"
      ],
      "metadata": {
        "colab": {
          "base_uri": "https://localhost:8080/",
          "height": 206
        },
        "id": "Lgh1ou6C8bE7",
        "outputId": "cb875e7b-1bea-4643-ecf4-a742828cab38"
      },
      "execution_count": null,
      "outputs": [
        {
          "output_type": "execute_result",
          "data": {
            "text/plain": [
              "    id  x1  x2  x3  y\n",
              "0  297  43  59   2  ?\n",
              "1  298  67  66   0  ?\n",
              "2  299  58  60   3  ?\n",
              "3  300  49  63   3  ?\n",
              "4  301  45  60   0  ?"
            ],
            "text/html": [
              "\n",
              "  <div id=\"df-dcf270d3-2316-4096-8dbd-1888571355f0\">\n",
              "    <div class=\"colab-df-container\">\n",
              "      <div>\n",
              "<style scoped>\n",
              "    .dataframe tbody tr th:only-of-type {\n",
              "        vertical-align: middle;\n",
              "    }\n",
              "\n",
              "    .dataframe tbody tr th {\n",
              "        vertical-align: top;\n",
              "    }\n",
              "\n",
              "    .dataframe thead th {\n",
              "        text-align: right;\n",
              "    }\n",
              "</style>\n",
              "<table border=\"1\" class=\"dataframe\">\n",
              "  <thead>\n",
              "    <tr style=\"text-align: right;\">\n",
              "      <th></th>\n",
              "      <th>id</th>\n",
              "      <th>x1</th>\n",
              "      <th>x2</th>\n",
              "      <th>x3</th>\n",
              "      <th>y</th>\n",
              "    </tr>\n",
              "  </thead>\n",
              "  <tbody>\n",
              "    <tr>\n",
              "      <th>0</th>\n",
              "      <td>297</td>\n",
              "      <td>43</td>\n",
              "      <td>59</td>\n",
              "      <td>2</td>\n",
              "      <td>?</td>\n",
              "    </tr>\n",
              "    <tr>\n",
              "      <th>1</th>\n",
              "      <td>298</td>\n",
              "      <td>67</td>\n",
              "      <td>66</td>\n",
              "      <td>0</td>\n",
              "      <td>?</td>\n",
              "    </tr>\n",
              "    <tr>\n",
              "      <th>2</th>\n",
              "      <td>299</td>\n",
              "      <td>58</td>\n",
              "      <td>60</td>\n",
              "      <td>3</td>\n",
              "      <td>?</td>\n",
              "    </tr>\n",
              "    <tr>\n",
              "      <th>3</th>\n",
              "      <td>300</td>\n",
              "      <td>49</td>\n",
              "      <td>63</td>\n",
              "      <td>3</td>\n",
              "      <td>?</td>\n",
              "    </tr>\n",
              "    <tr>\n",
              "      <th>4</th>\n",
              "      <td>301</td>\n",
              "      <td>45</td>\n",
              "      <td>60</td>\n",
              "      <td>0</td>\n",
              "      <td>?</td>\n",
              "    </tr>\n",
              "  </tbody>\n",
              "</table>\n",
              "</div>\n",
              "      <button class=\"colab-df-convert\" onclick=\"convertToInteractive('df-dcf270d3-2316-4096-8dbd-1888571355f0')\"\n",
              "              title=\"Convert this dataframe to an interactive table.\"\n",
              "              style=\"display:none;\">\n",
              "        \n",
              "  <svg xmlns=\"http://www.w3.org/2000/svg\" height=\"24px\"viewBox=\"0 0 24 24\"\n",
              "       width=\"24px\">\n",
              "    <path d=\"M0 0h24v24H0V0z\" fill=\"none\"/>\n",
              "    <path d=\"M18.56 5.44l.94 2.06.94-2.06 2.06-.94-2.06-.94-.94-2.06-.94 2.06-2.06.94zm-11 1L8.5 8.5l.94-2.06 2.06-.94-2.06-.94L8.5 2.5l-.94 2.06-2.06.94zm10 10l.94 2.06.94-2.06 2.06-.94-2.06-.94-.94-2.06-.94 2.06-2.06.94z\"/><path d=\"M17.41 7.96l-1.37-1.37c-.4-.4-.92-.59-1.43-.59-.52 0-1.04.2-1.43.59L10.3 9.45l-7.72 7.72c-.78.78-.78 2.05 0 2.83L4 21.41c.39.39.9.59 1.41.59.51 0 1.02-.2 1.41-.59l7.78-7.78 2.81-2.81c.8-.78.8-2.07 0-2.86zM5.41 20L4 18.59l7.72-7.72 1.47 1.35L5.41 20z\"/>\n",
              "  </svg>\n",
              "      </button>\n",
              "      \n",
              "  <style>\n",
              "    .colab-df-container {\n",
              "      display:flex;\n",
              "      flex-wrap:wrap;\n",
              "      gap: 12px;\n",
              "    }\n",
              "\n",
              "    .colab-df-convert {\n",
              "      background-color: #E8F0FE;\n",
              "      border: none;\n",
              "      border-radius: 50%;\n",
              "      cursor: pointer;\n",
              "      display: none;\n",
              "      fill: #1967D2;\n",
              "      height: 32px;\n",
              "      padding: 0 0 0 0;\n",
              "      width: 32px;\n",
              "    }\n",
              "\n",
              "    .colab-df-convert:hover {\n",
              "      background-color: #E2EBFA;\n",
              "      box-shadow: 0px 1px 2px rgba(60, 64, 67, 0.3), 0px 1px 3px 1px rgba(60, 64, 67, 0.15);\n",
              "      fill: #174EA6;\n",
              "    }\n",
              "\n",
              "    [theme=dark] .colab-df-convert {\n",
              "      background-color: #3B4455;\n",
              "      fill: #D2E3FC;\n",
              "    }\n",
              "\n",
              "    [theme=dark] .colab-df-convert:hover {\n",
              "      background-color: #434B5C;\n",
              "      box-shadow: 0px 1px 3px 1px rgba(0, 0, 0, 0.15);\n",
              "      filter: drop-shadow(0px 1px 2px rgba(0, 0, 0, 0.3));\n",
              "      fill: #FFFFFF;\n",
              "    }\n",
              "  </style>\n",
              "\n",
              "      <script>\n",
              "        const buttonEl =\n",
              "          document.querySelector('#df-dcf270d3-2316-4096-8dbd-1888571355f0 button.colab-df-convert');\n",
              "        buttonEl.style.display =\n",
              "          google.colab.kernel.accessAllowed ? 'block' : 'none';\n",
              "\n",
              "        async function convertToInteractive(key) {\n",
              "          const element = document.querySelector('#df-dcf270d3-2316-4096-8dbd-1888571355f0');\n",
              "          const dataTable =\n",
              "            await google.colab.kernel.invokeFunction('convertToInteractive',\n",
              "                                                     [key], {});\n",
              "          if (!dataTable) return;\n",
              "\n",
              "          const docLinkHtml = 'Like what you see? Visit the ' +\n",
              "            '<a target=\"_blank\" href=https://colab.research.google.com/notebooks/data_table.ipynb>data table notebook</a>'\n",
              "            + ' to learn more about interactive tables.';\n",
              "          element.innerHTML = '';\n",
              "          dataTable['output_type'] = 'display_data';\n",
              "          await google.colab.output.renderOutput(dataTable, element);\n",
              "          const docLink = document.createElement('div');\n",
              "          docLink.innerHTML = docLinkHtml;\n",
              "          element.appendChild(docLink);\n",
              "        }\n",
              "      </script>\n",
              "    </div>\n",
              "  </div>\n",
              "  "
            ]
          },
          "metadata": {},
          "execution_count": 21
        }
      ]
    },
    {
      "cell_type": "code",
      "source": [
        "df_id = df_test[['id']]\n",
        "df_out = df_test[['x1', 'x2', 'x3']]"
      ],
      "metadata": {
        "id": "KIjhSbdX8df4"
      },
      "execution_count": null,
      "outputs": []
    },
    {
      "cell_type": "code",
      "source": [
        "df_id.head()"
      ],
      "metadata": {
        "colab": {
          "base_uri": "https://localhost:8080/",
          "height": 206
        },
        "id": "hcfsyGc48fwZ",
        "outputId": "e732db28-cdb5-4d90-ae60-2141987296ac"
      },
      "execution_count": null,
      "outputs": [
        {
          "output_type": "execute_result",
          "data": {
            "text/plain": [
              "    id\n",
              "0  297\n",
              "1  298\n",
              "2  299\n",
              "3  300\n",
              "4  301"
            ],
            "text/html": [
              "\n",
              "  <div id=\"df-6de50ef0-5a05-4fd7-b108-aa79a87caba4\">\n",
              "    <div class=\"colab-df-container\">\n",
              "      <div>\n",
              "<style scoped>\n",
              "    .dataframe tbody tr th:only-of-type {\n",
              "        vertical-align: middle;\n",
              "    }\n",
              "\n",
              "    .dataframe tbody tr th {\n",
              "        vertical-align: top;\n",
              "    }\n",
              "\n",
              "    .dataframe thead th {\n",
              "        text-align: right;\n",
              "    }\n",
              "</style>\n",
              "<table border=\"1\" class=\"dataframe\">\n",
              "  <thead>\n",
              "    <tr style=\"text-align: right;\">\n",
              "      <th></th>\n",
              "      <th>id</th>\n",
              "    </tr>\n",
              "  </thead>\n",
              "  <tbody>\n",
              "    <tr>\n",
              "      <th>0</th>\n",
              "      <td>297</td>\n",
              "    </tr>\n",
              "    <tr>\n",
              "      <th>1</th>\n",
              "      <td>298</td>\n",
              "    </tr>\n",
              "    <tr>\n",
              "      <th>2</th>\n",
              "      <td>299</td>\n",
              "    </tr>\n",
              "    <tr>\n",
              "      <th>3</th>\n",
              "      <td>300</td>\n",
              "    </tr>\n",
              "    <tr>\n",
              "      <th>4</th>\n",
              "      <td>301</td>\n",
              "    </tr>\n",
              "  </tbody>\n",
              "</table>\n",
              "</div>\n",
              "      <button class=\"colab-df-convert\" onclick=\"convertToInteractive('df-6de50ef0-5a05-4fd7-b108-aa79a87caba4')\"\n",
              "              title=\"Convert this dataframe to an interactive table.\"\n",
              "              style=\"display:none;\">\n",
              "        \n",
              "  <svg xmlns=\"http://www.w3.org/2000/svg\" height=\"24px\"viewBox=\"0 0 24 24\"\n",
              "       width=\"24px\">\n",
              "    <path d=\"M0 0h24v24H0V0z\" fill=\"none\"/>\n",
              "    <path d=\"M18.56 5.44l.94 2.06.94-2.06 2.06-.94-2.06-.94-.94-2.06-.94 2.06-2.06.94zm-11 1L8.5 8.5l.94-2.06 2.06-.94-2.06-.94L8.5 2.5l-.94 2.06-2.06.94zm10 10l.94 2.06.94-2.06 2.06-.94-2.06-.94-.94-2.06-.94 2.06-2.06.94z\"/><path d=\"M17.41 7.96l-1.37-1.37c-.4-.4-.92-.59-1.43-.59-.52 0-1.04.2-1.43.59L10.3 9.45l-7.72 7.72c-.78.78-.78 2.05 0 2.83L4 21.41c.39.39.9.59 1.41.59.51 0 1.02-.2 1.41-.59l7.78-7.78 2.81-2.81c.8-.78.8-2.07 0-2.86zM5.41 20L4 18.59l7.72-7.72 1.47 1.35L5.41 20z\"/>\n",
              "  </svg>\n",
              "      </button>\n",
              "      \n",
              "  <style>\n",
              "    .colab-df-container {\n",
              "      display:flex;\n",
              "      flex-wrap:wrap;\n",
              "      gap: 12px;\n",
              "    }\n",
              "\n",
              "    .colab-df-convert {\n",
              "      background-color: #E8F0FE;\n",
              "      border: none;\n",
              "      border-radius: 50%;\n",
              "      cursor: pointer;\n",
              "      display: none;\n",
              "      fill: #1967D2;\n",
              "      height: 32px;\n",
              "      padding: 0 0 0 0;\n",
              "      width: 32px;\n",
              "    }\n",
              "\n",
              "    .colab-df-convert:hover {\n",
              "      background-color: #E2EBFA;\n",
              "      box-shadow: 0px 1px 2px rgba(60, 64, 67, 0.3), 0px 1px 3px 1px rgba(60, 64, 67, 0.15);\n",
              "      fill: #174EA6;\n",
              "    }\n",
              "\n",
              "    [theme=dark] .colab-df-convert {\n",
              "      background-color: #3B4455;\n",
              "      fill: #D2E3FC;\n",
              "    }\n",
              "\n",
              "    [theme=dark] .colab-df-convert:hover {\n",
              "      background-color: #434B5C;\n",
              "      box-shadow: 0px 1px 3px 1px rgba(0, 0, 0, 0.15);\n",
              "      filter: drop-shadow(0px 1px 2px rgba(0, 0, 0, 0.3));\n",
              "      fill: #FFFFFF;\n",
              "    }\n",
              "  </style>\n",
              "\n",
              "      <script>\n",
              "        const buttonEl =\n",
              "          document.querySelector('#df-6de50ef0-5a05-4fd7-b108-aa79a87caba4 button.colab-df-convert');\n",
              "        buttonEl.style.display =\n",
              "          google.colab.kernel.accessAllowed ? 'block' : 'none';\n",
              "\n",
              "        async function convertToInteractive(key) {\n",
              "          const element = document.querySelector('#df-6de50ef0-5a05-4fd7-b108-aa79a87caba4');\n",
              "          const dataTable =\n",
              "            await google.colab.kernel.invokeFunction('convertToInteractive',\n",
              "                                                     [key], {});\n",
              "          if (!dataTable) return;\n",
              "\n",
              "          const docLinkHtml = 'Like what you see? Visit the ' +\n",
              "            '<a target=\"_blank\" href=https://colab.research.google.com/notebooks/data_table.ipynb>data table notebook</a>'\n",
              "            + ' to learn more about interactive tables.';\n",
              "          element.innerHTML = '';\n",
              "          dataTable['output_type'] = 'display_data';\n",
              "          await google.colab.output.renderOutput(dataTable, element);\n",
              "          const docLink = document.createElement('div');\n",
              "          docLink.innerHTML = docLinkHtml;\n",
              "          element.appendChild(docLink);\n",
              "        }\n",
              "      </script>\n",
              "    </div>\n",
              "  </div>\n",
              "  "
            ]
          },
          "metadata": {},
          "execution_count": 23
        }
      ]
    },
    {
      "cell_type": "code",
      "source": [
        "df_out.head()"
      ],
      "metadata": {
        "colab": {
          "base_uri": "https://localhost:8080/",
          "height": 206
        },
        "id": "VH4xce928mF2",
        "outputId": "9ca43e51-6c19-4619-c08c-18912662995c"
      },
      "execution_count": null,
      "outputs": [
        {
          "output_type": "execute_result",
          "data": {
            "text/plain": [
              "   x1  x2  x3\n",
              "0  43  59   2\n",
              "1  67  66   0\n",
              "2  58  60   3\n",
              "3  49  63   3\n",
              "4  45  60   0"
            ],
            "text/html": [
              "\n",
              "  <div id=\"df-2cb88deb-3ce1-44eb-8414-86f633c3c720\">\n",
              "    <div class=\"colab-df-container\">\n",
              "      <div>\n",
              "<style scoped>\n",
              "    .dataframe tbody tr th:only-of-type {\n",
              "        vertical-align: middle;\n",
              "    }\n",
              "\n",
              "    .dataframe tbody tr th {\n",
              "        vertical-align: top;\n",
              "    }\n",
              "\n",
              "    .dataframe thead th {\n",
              "        text-align: right;\n",
              "    }\n",
              "</style>\n",
              "<table border=\"1\" class=\"dataframe\">\n",
              "  <thead>\n",
              "    <tr style=\"text-align: right;\">\n",
              "      <th></th>\n",
              "      <th>x1</th>\n",
              "      <th>x2</th>\n",
              "      <th>x3</th>\n",
              "    </tr>\n",
              "  </thead>\n",
              "  <tbody>\n",
              "    <tr>\n",
              "      <th>0</th>\n",
              "      <td>43</td>\n",
              "      <td>59</td>\n",
              "      <td>2</td>\n",
              "    </tr>\n",
              "    <tr>\n",
              "      <th>1</th>\n",
              "      <td>67</td>\n",
              "      <td>66</td>\n",
              "      <td>0</td>\n",
              "    </tr>\n",
              "    <tr>\n",
              "      <th>2</th>\n",
              "      <td>58</td>\n",
              "      <td>60</td>\n",
              "      <td>3</td>\n",
              "    </tr>\n",
              "    <tr>\n",
              "      <th>3</th>\n",
              "      <td>49</td>\n",
              "      <td>63</td>\n",
              "      <td>3</td>\n",
              "    </tr>\n",
              "    <tr>\n",
              "      <th>4</th>\n",
              "      <td>45</td>\n",
              "      <td>60</td>\n",
              "      <td>0</td>\n",
              "    </tr>\n",
              "  </tbody>\n",
              "</table>\n",
              "</div>\n",
              "      <button class=\"colab-df-convert\" onclick=\"convertToInteractive('df-2cb88deb-3ce1-44eb-8414-86f633c3c720')\"\n",
              "              title=\"Convert this dataframe to an interactive table.\"\n",
              "              style=\"display:none;\">\n",
              "        \n",
              "  <svg xmlns=\"http://www.w3.org/2000/svg\" height=\"24px\"viewBox=\"0 0 24 24\"\n",
              "       width=\"24px\">\n",
              "    <path d=\"M0 0h24v24H0V0z\" fill=\"none\"/>\n",
              "    <path d=\"M18.56 5.44l.94 2.06.94-2.06 2.06-.94-2.06-.94-.94-2.06-.94 2.06-2.06.94zm-11 1L8.5 8.5l.94-2.06 2.06-.94-2.06-.94L8.5 2.5l-.94 2.06-2.06.94zm10 10l.94 2.06.94-2.06 2.06-.94-2.06-.94-.94-2.06-.94 2.06-2.06.94z\"/><path d=\"M17.41 7.96l-1.37-1.37c-.4-.4-.92-.59-1.43-.59-.52 0-1.04.2-1.43.59L10.3 9.45l-7.72 7.72c-.78.78-.78 2.05 0 2.83L4 21.41c.39.39.9.59 1.41.59.51 0 1.02-.2 1.41-.59l7.78-7.78 2.81-2.81c.8-.78.8-2.07 0-2.86zM5.41 20L4 18.59l7.72-7.72 1.47 1.35L5.41 20z\"/>\n",
              "  </svg>\n",
              "      </button>\n",
              "      \n",
              "  <style>\n",
              "    .colab-df-container {\n",
              "      display:flex;\n",
              "      flex-wrap:wrap;\n",
              "      gap: 12px;\n",
              "    }\n",
              "\n",
              "    .colab-df-convert {\n",
              "      background-color: #E8F0FE;\n",
              "      border: none;\n",
              "      border-radius: 50%;\n",
              "      cursor: pointer;\n",
              "      display: none;\n",
              "      fill: #1967D2;\n",
              "      height: 32px;\n",
              "      padding: 0 0 0 0;\n",
              "      width: 32px;\n",
              "    }\n",
              "\n",
              "    .colab-df-convert:hover {\n",
              "      background-color: #E2EBFA;\n",
              "      box-shadow: 0px 1px 2px rgba(60, 64, 67, 0.3), 0px 1px 3px 1px rgba(60, 64, 67, 0.15);\n",
              "      fill: #174EA6;\n",
              "    }\n",
              "\n",
              "    [theme=dark] .colab-df-convert {\n",
              "      background-color: #3B4455;\n",
              "      fill: #D2E3FC;\n",
              "    }\n",
              "\n",
              "    [theme=dark] .colab-df-convert:hover {\n",
              "      background-color: #434B5C;\n",
              "      box-shadow: 0px 1px 3px 1px rgba(0, 0, 0, 0.15);\n",
              "      filter: drop-shadow(0px 1px 2px rgba(0, 0, 0, 0.3));\n",
              "      fill: #FFFFFF;\n",
              "    }\n",
              "  </style>\n",
              "\n",
              "      <script>\n",
              "        const buttonEl =\n",
              "          document.querySelector('#df-2cb88deb-3ce1-44eb-8414-86f633c3c720 button.colab-df-convert');\n",
              "        buttonEl.style.display =\n",
              "          google.colab.kernel.accessAllowed ? 'block' : 'none';\n",
              "\n",
              "        async function convertToInteractive(key) {\n",
              "          const element = document.querySelector('#df-2cb88deb-3ce1-44eb-8414-86f633c3c720');\n",
              "          const dataTable =\n",
              "            await google.colab.kernel.invokeFunction('convertToInteractive',\n",
              "                                                     [key], {});\n",
              "          if (!dataTable) return;\n",
              "\n",
              "          const docLinkHtml = 'Like what you see? Visit the ' +\n",
              "            '<a target=\"_blank\" href=https://colab.research.google.com/notebooks/data_table.ipynb>data table notebook</a>'\n",
              "            + ' to learn more about interactive tables.';\n",
              "          element.innerHTML = '';\n",
              "          dataTable['output_type'] = 'display_data';\n",
              "          await google.colab.output.renderOutput(dataTable, element);\n",
              "          const docLink = document.createElement('div');\n",
              "          docLink.innerHTML = docLinkHtml;\n",
              "          element.appendChild(docLink);\n",
              "        }\n",
              "      </script>\n",
              "    </div>\n",
              "  </div>\n",
              "  "
            ]
          },
          "metadata": {},
          "execution_count": 24
        }
      ]
    },
    {
      "cell_type": "code",
      "source": [
        "df_out_arr = df_out.to_numpy()\n",
        "hasil_prediksi = model_knn.predict(df_out_arr)"
      ],
      "metadata": {
        "id": "DwdquPeO8no2"
      },
      "execution_count": null,
      "outputs": []
    },
    {
      "cell_type": "code",
      "source": [
        "print(hasil_prediksi)"
      ],
      "metadata": {
        "colab": {
          "base_uri": "https://localhost:8080/"
        },
        "id": "kn9s9opl8pqO",
        "outputId": "8cc6ae9a-09e5-4f32-bb5c-0699423dd321"
      },
      "execution_count": null,
      "outputs": [
        {
          "output_type": "stream",
          "name": "stdout",
          "text": [
            "[1 1 0 1 1 1 0 0 1 1]\n"
          ]
        }
      ]
    },
    {
      "cell_type": "code",
      "source": [
        "df_out.insert(3, 'y', hasil_prediksi)\n",
        "df_out.insert(0, \"id\", df_id)\n",
        "df_out"
      ],
      "metadata": {
        "colab": {
          "base_uri": "https://localhost:8080/",
          "height": 363
        },
        "id": "CiruLA618uB8",
        "outputId": "7529f0f4-e14b-45c0-f6ea-a7f0b6fcbba8"
      },
      "execution_count": null,
      "outputs": [
        {
          "output_type": "execute_result",
          "data": {
            "text/plain": [
              "    id  x1  x2  x3  y\n",
              "0  297  43  59   2  1\n",
              "1  298  67  66   0  1\n",
              "2  299  58  60   3  0\n",
              "3  300  49  63   3  1\n",
              "4  301  45  60   0  1\n",
              "5  302  54  58   1  1\n",
              "6  303  56  66   3  0\n",
              "7  304  42  69   1  0\n",
              "8  305  50  59   2  1\n",
              "9  306  59  60   0  1"
            ],
            "text/html": [
              "\n",
              "  <div id=\"df-74bdb680-e604-45be-8404-61f648e21570\">\n",
              "    <div class=\"colab-df-container\">\n",
              "      <div>\n",
              "<style scoped>\n",
              "    .dataframe tbody tr th:only-of-type {\n",
              "        vertical-align: middle;\n",
              "    }\n",
              "\n",
              "    .dataframe tbody tr th {\n",
              "        vertical-align: top;\n",
              "    }\n",
              "\n",
              "    .dataframe thead th {\n",
              "        text-align: right;\n",
              "    }\n",
              "</style>\n",
              "<table border=\"1\" class=\"dataframe\">\n",
              "  <thead>\n",
              "    <tr style=\"text-align: right;\">\n",
              "      <th></th>\n",
              "      <th>id</th>\n",
              "      <th>x1</th>\n",
              "      <th>x2</th>\n",
              "      <th>x3</th>\n",
              "      <th>y</th>\n",
              "    </tr>\n",
              "  </thead>\n",
              "  <tbody>\n",
              "    <tr>\n",
              "      <th>0</th>\n",
              "      <td>297</td>\n",
              "      <td>43</td>\n",
              "      <td>59</td>\n",
              "      <td>2</td>\n",
              "      <td>1</td>\n",
              "    </tr>\n",
              "    <tr>\n",
              "      <th>1</th>\n",
              "      <td>298</td>\n",
              "      <td>67</td>\n",
              "      <td>66</td>\n",
              "      <td>0</td>\n",
              "      <td>1</td>\n",
              "    </tr>\n",
              "    <tr>\n",
              "      <th>2</th>\n",
              "      <td>299</td>\n",
              "      <td>58</td>\n",
              "      <td>60</td>\n",
              "      <td>3</td>\n",
              "      <td>0</td>\n",
              "    </tr>\n",
              "    <tr>\n",
              "      <th>3</th>\n",
              "      <td>300</td>\n",
              "      <td>49</td>\n",
              "      <td>63</td>\n",
              "      <td>3</td>\n",
              "      <td>1</td>\n",
              "    </tr>\n",
              "    <tr>\n",
              "      <th>4</th>\n",
              "      <td>301</td>\n",
              "      <td>45</td>\n",
              "      <td>60</td>\n",
              "      <td>0</td>\n",
              "      <td>1</td>\n",
              "    </tr>\n",
              "    <tr>\n",
              "      <th>5</th>\n",
              "      <td>302</td>\n",
              "      <td>54</td>\n",
              "      <td>58</td>\n",
              "      <td>1</td>\n",
              "      <td>1</td>\n",
              "    </tr>\n",
              "    <tr>\n",
              "      <th>6</th>\n",
              "      <td>303</td>\n",
              "      <td>56</td>\n",
              "      <td>66</td>\n",
              "      <td>3</td>\n",
              "      <td>0</td>\n",
              "    </tr>\n",
              "    <tr>\n",
              "      <th>7</th>\n",
              "      <td>304</td>\n",
              "      <td>42</td>\n",
              "      <td>69</td>\n",
              "      <td>1</td>\n",
              "      <td>0</td>\n",
              "    </tr>\n",
              "    <tr>\n",
              "      <th>8</th>\n",
              "      <td>305</td>\n",
              "      <td>50</td>\n",
              "      <td>59</td>\n",
              "      <td>2</td>\n",
              "      <td>1</td>\n",
              "    </tr>\n",
              "    <tr>\n",
              "      <th>9</th>\n",
              "      <td>306</td>\n",
              "      <td>59</td>\n",
              "      <td>60</td>\n",
              "      <td>0</td>\n",
              "      <td>1</td>\n",
              "    </tr>\n",
              "  </tbody>\n",
              "</table>\n",
              "</div>\n",
              "      <button class=\"colab-df-convert\" onclick=\"convertToInteractive('df-74bdb680-e604-45be-8404-61f648e21570')\"\n",
              "              title=\"Convert this dataframe to an interactive table.\"\n",
              "              style=\"display:none;\">\n",
              "        \n",
              "  <svg xmlns=\"http://www.w3.org/2000/svg\" height=\"24px\"viewBox=\"0 0 24 24\"\n",
              "       width=\"24px\">\n",
              "    <path d=\"M0 0h24v24H0V0z\" fill=\"none\"/>\n",
              "    <path d=\"M18.56 5.44l.94 2.06.94-2.06 2.06-.94-2.06-.94-.94-2.06-.94 2.06-2.06.94zm-11 1L8.5 8.5l.94-2.06 2.06-.94-2.06-.94L8.5 2.5l-.94 2.06-2.06.94zm10 10l.94 2.06.94-2.06 2.06-.94-2.06-.94-.94-2.06-.94 2.06-2.06.94z\"/><path d=\"M17.41 7.96l-1.37-1.37c-.4-.4-.92-.59-1.43-.59-.52 0-1.04.2-1.43.59L10.3 9.45l-7.72 7.72c-.78.78-.78 2.05 0 2.83L4 21.41c.39.39.9.59 1.41.59.51 0 1.02-.2 1.41-.59l7.78-7.78 2.81-2.81c.8-.78.8-2.07 0-2.86zM5.41 20L4 18.59l7.72-7.72 1.47 1.35L5.41 20z\"/>\n",
              "  </svg>\n",
              "      </button>\n",
              "      \n",
              "  <style>\n",
              "    .colab-df-container {\n",
              "      display:flex;\n",
              "      flex-wrap:wrap;\n",
              "      gap: 12px;\n",
              "    }\n",
              "\n",
              "    .colab-df-convert {\n",
              "      background-color: #E8F0FE;\n",
              "      border: none;\n",
              "      border-radius: 50%;\n",
              "      cursor: pointer;\n",
              "      display: none;\n",
              "      fill: #1967D2;\n",
              "      height: 32px;\n",
              "      padding: 0 0 0 0;\n",
              "      width: 32px;\n",
              "    }\n",
              "\n",
              "    .colab-df-convert:hover {\n",
              "      background-color: #E2EBFA;\n",
              "      box-shadow: 0px 1px 2px rgba(60, 64, 67, 0.3), 0px 1px 3px 1px rgba(60, 64, 67, 0.15);\n",
              "      fill: #174EA6;\n",
              "    }\n",
              "\n",
              "    [theme=dark] .colab-df-convert {\n",
              "      background-color: #3B4455;\n",
              "      fill: #D2E3FC;\n",
              "    }\n",
              "\n",
              "    [theme=dark] .colab-df-convert:hover {\n",
              "      background-color: #434B5C;\n",
              "      box-shadow: 0px 1px 3px 1px rgba(0, 0, 0, 0.15);\n",
              "      filter: drop-shadow(0px 1px 2px rgba(0, 0, 0, 0.3));\n",
              "      fill: #FFFFFF;\n",
              "    }\n",
              "  </style>\n",
              "\n",
              "      <script>\n",
              "        const buttonEl =\n",
              "          document.querySelector('#df-74bdb680-e604-45be-8404-61f648e21570 button.colab-df-convert');\n",
              "        buttonEl.style.display =\n",
              "          google.colab.kernel.accessAllowed ? 'block' : 'none';\n",
              "\n",
              "        async function convertToInteractive(key) {\n",
              "          const element = document.querySelector('#df-74bdb680-e604-45be-8404-61f648e21570');\n",
              "          const dataTable =\n",
              "            await google.colab.kernel.invokeFunction('convertToInteractive',\n",
              "                                                     [key], {});\n",
              "          if (!dataTable) return;\n",
              "\n",
              "          const docLinkHtml = 'Like what you see? Visit the ' +\n",
              "            '<a target=\"_blank\" href=https://colab.research.google.com/notebooks/data_table.ipynb>data table notebook</a>'\n",
              "            + ' to learn more about interactive tables.';\n",
              "          element.innerHTML = '';\n",
              "          dataTable['output_type'] = 'display_data';\n",
              "          await google.colab.output.renderOutput(dataTable, element);\n",
              "          const docLink = document.createElement('div');\n",
              "          docLink.innerHTML = docLinkHtml;\n",
              "          element.appendChild(docLink);\n",
              "        }\n",
              "      </script>\n",
              "    </div>\n",
              "  </div>\n",
              "  "
            ]
          },
          "metadata": {},
          "execution_count": 27
        }
      ]
    },
    {
      "cell_type": "markdown",
      "source": [
        "##**Menyimpan output ke file**"
      ],
      "metadata": {
        "id": "Uvvp9qRPA3uI"
      }
    },
    {
      "cell_type": "code",
      "source": [
        "drive.mount('/drive')\n",
        "df_out.to_excel('/drive/My Drive/TUPRO3/output.xlsx', index=False)"
      ],
      "metadata": {
        "id": "a5mpSxMl8wJY"
      },
      "execution_count": null,
      "outputs": []
    }
  ]
}